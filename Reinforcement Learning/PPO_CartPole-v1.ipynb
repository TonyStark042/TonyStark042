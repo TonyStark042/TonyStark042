{
 "cells": [
  {
   "cell_type": "code",
   "execution_count": 2,
   "id": "1ad07130-c208-44ec-9942-b412ed7918d1",
   "metadata": {},
   "outputs": [],
   "source": [
    "import torch\n",
    "import torch.nn as nn\n",
    "from torch.distributions import MultivariateNormal\n",
    "from torch.distributions import Categorical\n",
    "import time\n",
    "from datetime import datetime\n",
    "from My_RLBase import *\n",
    "import gymnasium as gym\n",
    "import numpy as np\n",
    "import copy\n",
    "import imageio"
   ]
  },
  {
   "cell_type": "code",
   "execution_count": 3,
   "id": "89bce79b-6d06-41d9-b21c-ea9b03f3e2b1",
   "metadata": {},
   "outputs": [
    {
     "name": "stdout",
     "output_type": "stream",
     "text": [
      "============================================================================================\n",
      "Device set to : NVIDIA GeForce GTX 1650\n",
      "============================================================================================\n"
     ]
    }
   ],
   "source": [
    "print(\"============================================================================================\")\n",
    "# set device to cpu or cuda\n",
    "device = torch.device('cpu')\n",
    "if(torch.cuda.is_available()): \n",
    "    device = torch.device('cuda:0') \n",
    "    torch.cuda.empty_cache()\n",
    "    print(\"Device set to : \" + str(torch.cuda.get_device_name(device)))\n",
    "else:\n",
    "    print(\"Device set to : cpu\")\n",
    "print(\"============================================================================================\")"
   ]
  },
  {
   "cell_type": "code",
   "execution_count": 4,
   "id": "0414c12d-093c-4897-9818-24134a5283b3",
   "metadata": {},
   "outputs": [],
   "source": [
    "################################## RolloutBuffer ##################################\n",
    "class RolloutBuffer:                   # Mermory，用于存储行为网络（演员）的采样结果。\n",
    "    def __init__(self):\n",
    "        self.actions = []        \n",
    "        self.states = []\n",
    "        self.log_probs = [] \n",
    "        self.rewards = [] \n",
    "        self.state_values = []          # critic网络的估计值\n",
    "        self.is_terminals = []\n",
    "    \n",
    "    def clear(self):\n",
    "        del self.actions[:]            # del 关键字删除\n",
    "        del self.states[:]\n",
    "        del self.log_probs[:]\n",
    "        del self.rewards[:]\n",
    "        del self.state_values[:]\n",
    "        del self.is_terminals[:]"
   ]
  },
  {
   "cell_type": "code",
   "execution_count": 5,
   "id": "58fed4c0-9b33-4a34-9b58-231d72dd04a9",
   "metadata": {},
   "outputs": [],
   "source": [
    "class ActorCritic(nn.Module):\n",
    "    def __init__(self, state_dim, action_dim, has_continuous_action_space, action_std_init):\n",
    "        super().__init__()\n",
    "\n",
    "        self.has_continuous_action_space = has_continuous_action_space\n",
    "        \n",
    "        if has_continuous_action_space:              # 是否具有连续的动作空间。\n",
    "            self.action_dim = action_dim\n",
    "            self.action_var = torch.full((action_dim,), action_std_init * action_std_init).to(device)\n",
    "                                                     # full用于创建指定形状（shape）的张量，并用指定的标量值（fill_value）填充整个张量。\n",
    "        # actor\n",
    "        if has_continuous_action_space :\n",
    "            self.actor = nn.Sequential(                       # 使用Sequential创建时，不需要定义forward方法，因为它默认按顺序执行。\n",
    "                            nn.Linear(state_dim, 64),\n",
    "                            nn.Tanh(),\n",
    "                            nn.Linear(64, 64),\n",
    "                            nn.Tanh(),\n",
    "                            nn.Linear(64, action_dim),        # 拥有连续动作空间的话，输出的不归一化\n",
    "                            nn.Tanh()\n",
    "                        )\n",
    "        else:\n",
    "            self.actor = nn.Sequential(\n",
    "                            nn.Linear(state_dim, 64),\n",
    "                            nn.Tanh(),\n",
    "                            nn.Linear(64, 64),\n",
    "                            nn.Tanh(),\n",
    "                            nn.Linear(64, action_dim),\n",
    "                            nn.Softmax(dim=-1)\n",
    "                        )\n",
    "        # critic\n",
    "        self.critic = nn.Sequential(                 # critic网络，用于拟合折扣奖励，最后会趋近于该s下采取动作得到回报的均值。 \n",
    "                        nn.Linear(state_dim, 64),    # 将实际的Return - Ctritic,即可得出该动作的相对好坏; 这样可以帮助在某一状态中选出更好的动作\n",
    "                        nn.Tanh(),                   # 类似于添加baseline，但是这个更加好用，相当于每个状态s下都有一个自己的baseline，更能加快模型收敛。\n",
    "                        nn.Linear(64, 64),\n",
    "                        nn.Tanh(),\n",
    "                        nn.Linear(64, 1)             # 只输出一个值，作为对当前s下所采取a的评估\n",
    "                    )\n",
    "        \n",
    "    def set_action_std(self, new_action_std):\n",
    "        if self.has_continuous_action_space:\n",
    "            self.action_var = torch.full((self.action_dim,), new_action_std * new_action_std).to(device)\n",
    "        else:\n",
    "            print(\"--------------------------------------------------------------------------------------------\")\n",
    "            print(\"WARNING : Calling ActorCritic::set_action_std() on discrete action space policy\")\n",
    "            print(\"--------------------------------------------------------------------------------------------\")\n",
    "\n",
    "    def forward(self):\n",
    "        raise NotImplementedError\n",
    "    \n",
    "    def act(self, state):\n",
    "\n",
    "        if self.has_continuous_action_space:\n",
    "            action_mean = self.actor(state)                            # 连续动作空间中，网络的输出当作了该动作的期望值。\n",
    "            cov_mat = torch.diag(self.action_var).unsqueeze(dim=0)     # 创建协方差矩阵；对角线元素全一致； 并且又加了一维\n",
    "            dist = MultivariateNormal(action_mean, cov_mat)\n",
    "        else:\n",
    "            action_probs = self.actor(state)                             # 离散动作空间的话，直接softmax归一，然后根据不同概率值取样。\n",
    "            dist = Categorical(action_probs)\n",
    "\n",
    "        action = dist.sample()                      # action是actor网络得出的\n",
    "        action_logprob = dist.log_prob(action)\n",
    "        state_val = self.critic(state)              # critic网络评价。 state_value，价值就是回报的均值！！\n",
    "\n",
    "        return action.detach(), action_logprob.detach(), state_val.detach()  # 分离出标量值;分别为选取的动作、对数概率、\n",
    "    \n",
    "    def evaluate(self, state, action):                               \n",
    "\n",
    "        if self.has_continuous_action_space:\n",
    "            action_mean = self.actor(state)\n",
    "            \n",
    "            action_var = self.action_var.expand_as(action_mean)\n",
    "            cov_mat = torch.diag_embed(action_var).to(device)\n",
    "            dist = MultivariateNormal(action_mean, cov_mat)\n",
    "            \n",
    "            # For Single Action Environments.\n",
    "            if self.action_dim == 1:\n",
    "                action = action.reshape(-1, self.action_dim)\n",
    "        else:\n",
    "            action_probs = self.actor(state)\n",
    "            dist = Categorical(action_probs)\n",
    "        action_log_probs = dist.log_prob(action)\n",
    "        dist_entropy = dist.entropy()\n",
    "        state_values = self.critic(state)\n",
    "        \n",
    "        return action_log_probs, state_values, dist_entropy"
   ]
  },
  {
   "cell_type": "code",
   "execution_count": 56,
   "id": "ba8f7a20-a342-4ca0-957c-562d9f1a2e21",
   "metadata": {},
   "outputs": [],
   "source": [
    "class PPO:\n",
    "    def __init__(self, s_size, a_size, lr_actor, lr_critic, gamma, epochs, max_steps, update_times, update_steps, eps_clip, has_continuous_action_space, print_freq = 10, action_std_init=0.6):\n",
    "\n",
    "        self.has_continuous_action_space = has_continuous_action_space\n",
    "\n",
    "        if has_continuous_action_space:              # 如果是连续的动作空间的话\n",
    "            self.action_std = action_std_init\n",
    "\n",
    "        self.action_std_init = action_std_init\n",
    "        self.s_size = s_size\n",
    "        self.a_size = a_size\n",
    "        self.lr_actor = lr_actor\n",
    "        self.lr_critic = lr_critic\n",
    "        self.gamma = gamma\n",
    "        self.epochs = epochs\n",
    "        self.max_steps = max_steps\n",
    "        self.update_times = update_times\n",
    "        self.update_steps = update_steps\n",
    "        self.eps_clip = eps_clip      # 采用的是clip的PPO\n",
    "        self.print_freq = print_freq\n",
    "        self.buffer = RolloutBuffer()\n",
    "\n",
    "\n",
    "        self.policy = ActorCritic(self.s_size, self.a_size, self.has_continuous_action_space, self.action_std_init).to(device)\n",
    "        self.actor_optimizer = torch.optim.Adam(self.policy.actor.parameters(), self.lr_actor)# 演员的网络\n",
    "        self.critic_optimizer =  torch.optim.Adam(self.policy.critic.parameters(), self.lr_critic) # critic网络\n",
    "\n",
    "        self.policy_old = ActorCritic(self.s_size, self.a_size, self.has_continuous_action_space, self.action_std_init).to(device)   # 再创建一个新的实例\n",
    "        self.policy_old.load_state_dict(self.policy.state_dict())   # PolicyGradient.ipynbcy.state_dict()获取模型的所有参数； load_state_dict将参数字典加载到模型中；\n",
    "                                                                    # 这样的话就保证了初始policy和policy_old的参数是相同的\n",
    "        self.MseLoss = nn.MSELoss()\n",
    "\n",
    "    def set_action_std(self, new_action_std):                    # 连续动作空间下重新设置分布的方差\n",
    "        if self.has_continuous_action_space:\n",
    "            self.action_std = new_action_std\n",
    "            self.policy.set_action_std(new_action_std)\n",
    "            self.policy_old.set_action_std(new_action_std)\n",
    "        else:\n",
    "            print(\"--------------------------------------------------------------------------------------------\")\n",
    "            print(\"WARNING : Calling PPO::set_action_std() on discrete action space policy\")\n",
    "            print(\"--------------------------------------------------------------------------------------------\")\n",
    "\n",
    "    def decay_action_std(self, action_std_decay_rate, min_action_std):           # 动作空间方差衰减\n",
    "        print(\"--------------------------------------------------------------------------------------------\")\n",
    "        if self.has_continuous_action_space:\n",
    "            self.action_std = self.action_std - action_std_decay_rate\n",
    "            self.action_std = round(self.action_std, 4)\n",
    "            if (self.action_std <= min_action_std):\n",
    "                self.action_std = min_action_std\n",
    "                print(\"setting actor output action_std to min_action_std : \", self.action_std)\n",
    "            else:\n",
    "                print(\"setting actor output action_std to : \", self.action_std)\n",
    "            self.set_action_std(self.action_std)\n",
    "\n",
    "        else:\n",
    "            print(\"WARNING : Calling PPO::decay_action_std() on discrete action space policy\")\n",
    "        print(\"--------------------------------------------------------------------------------------------\")\n",
    "\n",
    "    def act(self, state):\n",
    "        state = torch.FloatTensor(state).to(device)\n",
    "        if self.has_continuous_action_space:\n",
    "            with torch.no_grad():\n",
    "                action_mean = self.policy_old.actor(state)                      # 连续动作空间中，网络的输出当作了该动作的期望值。\n",
    "                cov_mat = torch.diag(self.action_var).unsqueeze(dim=0)          # 创建协方差矩阵；对角线元素全一致； 并且又加了一维\n",
    "                dist = MultivariateNormal(action_mean, cov_mat)                                       \n",
    "        else:\n",
    "            with torch.no_grad():                                                  #  torch.no_grad() 上下文管理器，标识代码块中的计算不需要梯度；\n",
    "                action_probs = self.policy_old.actor(state)                        # 离散动作空间的话，直接softmax归一，然后根据不同概率值取样。\n",
    "                dist = Categorical(action_probs)\n",
    "\n",
    "        action = dist.sample()                                # action是actor网络得出的\n",
    "        action_logprob = dist.log_prob(action)\n",
    "        state_val = self.policy_old.critic(state)             # critic网络评价。 state_value，价值就是回报的均值！！\n",
    "\n",
    "        self.buffer.states.append(state)\n",
    "        self.buffer.actions.append(action)\n",
    "        self.buffer.log_probs.append(action_logprob)\n",
    "        self.buffer.state_values.append(state_val)\n",
    "        \n",
    "        if self.has_continuous_action_space:\n",
    "            return action.detach().cpu().numpy().flatten()     # 这时返回的是一个列表数据\n",
    "        else:\n",
    "            return action.item()         \n",
    "\n",
    "    def update(self):                          # old_policy采集多轮后的数据用于更新\n",
    "        # Monte Carlo estimate of returns\n",
    "        rewards = []\n",
    "        discounted_reward = 0\n",
    "        for reward, is_terminal in zip(reversed(self.buffer.rewards), reversed(self.buffer.is_terminals)):   # 从policy_old中取结果\n",
    "            if is_terminal:\n",
    "                discounted_reward = 0\n",
    "            discounted_reward = reward + (self.gamma * discounted_reward)                                   # 动态规划求return\n",
    "            rewards.insert(0, discounted_reward)                    \n",
    "            \n",
    "        # Normalizing the rewards\n",
    "        rewards = torch.tensor(rewards, dtype=torch.float32).to(device)      # 在这一步把值变为张量； 移到gpu上会默认带有梯度信息\n",
    "        rewards = (rewards - rewards.mean()) / (rewards.std() + 1e-7)\n",
    "\n",
    "        # convert list to tensor\n",
    "        old_states = torch.squeeze(torch.stack(self.buffer.states, dim=0)).detach().to(device)      # torch.squeeze 去除尺寸大小为 1 的维度,像[[[1,2,3]]]这种,会变成[1,2,3]\n",
    "        old_actions = torch.squeeze(torch.stack(self.buffer.actions, dim=0)).detach().to(device)    # torch.stack 按照dim指定的维度堆叠张量\n",
    "        old_log_probs = torch.squeeze(torch.stack(self.buffer.log_probs, dim=0)).detach().to(device)\n",
    "        old_state_values = torch.squeeze(torch.stack(self.buffer.state_values, dim=0)).detach().to(device)\n",
    "\n",
    "        # calculate advantages\n",
    "        advantages = rewards.detach() - old_state_values.detach()      # 回报 - critic的拟合价值， 求出优势函数的值\n",
    "\n",
    "        # Optimize policy for update_times epochs\n",
    "        for _ in range(self.update_times):\n",
    "\n",
    "            # Evaluating old actions and values\n",
    "            log_probs, state_values, dist_entropy = self.policy.evaluate(old_states, old_actions)  # 这里是用policy做的\n",
    "                                                                                                   # old_policy采样，新的policy评估\n",
    "            # match state_values tensor dimensions with rewards tensor\n",
    "            state_values = torch.squeeze(state_values)\n",
    "            \n",
    "            # Finding the ratio (pi_theta / pi_theta__old)\n",
    "            ratios = torch.exp(log_probs - old_log_probs.detach())                         ## 重要性权重，因为求的是对数概率，所以这里加了exp\n",
    "                                                                                           # old_policy用于采集，然后policy对采集的结果也评价一次，得出两者的比值，即用作重要性权重来修正分布差异\n",
    "            # Finding Surrogate Loss  \n",
    "            surr1 = ratios * advantages\n",
    "            surr2 = torch.clamp(ratios, 1-self.eps_clip, 1+self.eps_clip) * advantages   # torch.clamp 将张量中的元素限制在指定范围内的函数\n",
    "            \n",
    "            # final loss of clipped objective PPO\n",
    "            actor_loss = -torch.min(surr1, surr2).mean() # + 0.01 * dist_entropy.mean()   # 控制到上下界范围，更新策略网络和演员网络不能相差太大\n",
    "            critic_loss = 0.5 * self.MseLoss(state_values, rewards.detach()).mean()\n",
    "            actor_losses.append(actor_loss.item())\n",
    "            critic_losses.append(critic_loss.item())\n",
    "            \n",
    "            # take gradient step\n",
    "            self.actor_optimizer.zero_grad()\n",
    "            self.critic_optimizer.zero_grad()\n",
    "            actor_loss.backward()\n",
    "            critic_loss.backward()\n",
    "            self.actor_optimizer.step()\n",
    "            self.critic_optimizer.step()\n",
    "            \n",
    "        # Copy new weights into old policy\n",
    "        self.policy_old.load_state_dict(self.policy.state_dict())       # 更新完的参数同步到policy_old网络中，  critic也同步更新\n",
    "        \n",
    "        # clear buffer\n",
    "        self.buffer.clear()                                             # 清空buffer\n",
    "    \n",
    "    def save(self, checkpoint_path):\n",
    "        torch.save(self.policy_old.state_dict(), checkpoint_path)\n",
    "   \n",
    "    def load(self, checkpoint_path):\n",
    "        self.policy_old.load_state_dict(torch.load(checkpoint_path, map_location=lambda storage, loc: storage))\n",
    "        self.policy.load_state_dict(torch.load(checkpoint_path, map_location=lambda storage, loc: storage))\n",
    "\n",
    "################################### Training ###################################\n",
    "def train(env, agent):\n",
    "    print_freq = agent.print_freq       # print avg reward in the interval (in num timesteps)\n",
    "    rewards = []\n",
    "    actor_losses = []\n",
    "    critic_losses = []\n",
    "    action_std = 0.6                    # starting std for action distribution (Multivariate Normal)\n",
    "    action_std_decay_rate = 0.05        # linearly decay action_std (action_std = action_std - action_std_decay_rate)\n",
    "    min_action_std = 0.1                # minimum action_std (stop decay after action_std <= min_action_std)\n",
    "    action_std_decay_freq = int(2.5e5)  # action_std decay frequency (in num timesteps)\n",
    "    ###################################################\n",
    "    #####################################################\n",
    "    # track total training time\n",
    "    start_time = datetime.now().replace(microsecond=0)\n",
    "    print(\"Started training at (GMT) : \", start_time)\n",
    "    print(\"============================================================================================\")\n",
    "\n",
    "    print_running_reward = 0\n",
    "    print_running_episodes = 0\n",
    "    \n",
    "    time_step = 0     # 记录走了多少步\n",
    "\n",
    "    scores = []\n",
    "    best_ep_reward = 0\n",
    "    \n",
    "    for i_episode in range(1, agent.epochs+1):\n",
    "        \n",
    "        state = env.reset()[0]\n",
    "        current_ep_reward = 0\n",
    "\n",
    "        for t_step in range(1, agent.max_steps+1):\n",
    "\n",
    "            # select action with policy\n",
    "            action = agent.act(state)\n",
    "            state, reward, done, _, _ = env.step(action)\n",
    "\n",
    "            # saving reward and is_terminals\n",
    "            agent.buffer.rewards.append(reward)\n",
    "            agent.buffer.is_terminals.append(done)\n",
    "\n",
    "            time_step +=1\n",
    "            current_ep_reward += reward\n",
    "\n",
    "            # update PPO agent\n",
    "            if time_step % agent.update_steps == 0:    # 每update_timestep次，更新一次\n",
    "                agent.update()\n",
    "\n",
    "            # if continuous action space; then decay action std of ouput action distribution\n",
    "            if agent.has_continuous_action_space and time_step % action_std_decay_freq == 0:\n",
    "                agent.decay_action_std(action_std_decay_rate, min_action_std)\n",
    "\n",
    "            # break; if the episode is over\n",
    "            if done:\n",
    "                break\n",
    "            \n",
    "        # printing average reward\n",
    "        if i_episode % print_freq == 0:\n",
    "\n",
    "            # print average reward till last episode\n",
    "            print_avg_reward = print_running_reward / print_running_episodes   # 累计print_freq的reward除以epoch轮数\n",
    "            print_avg_reward = round(print_avg_reward, 2)\n",
    "\n",
    "            print(f\"Episode : {i_episode} \\t\\t Timestep : {time_step} \\t\\t Average Reward : {print_avg_reward}\")\n",
    "\n",
    "            if print_avg_reward >= best_ep_reward:\n",
    "                best_ep_reward = print_avg_reward\n",
    "                best_policy = copy.deepcopy(agent.policy)\n",
    "                print(f'==========================Best_agent has changed, the best reward is {best_ep_reward}======================')\n",
    "                \n",
    "            print_running_reward = 0\n",
    "            print_running_episodes = 0\n",
    "            \n",
    "        print_running_reward += current_ep_reward\n",
    "        print_running_episodes += 1\n",
    "        epoch_rewards.append(current_ep_reward)\n",
    "        \n",
    "    instance_params = agent.__dict__                        # 复制，连浅拷贝都不是，所以下列的删除操作会把agent的属性一起删除。\n",
    "    del instance_params['policy'], instance_params['buffer'], instance_params['policy_old'],  instance_params['actor_optimizer'], instance_params['critic_optimizer'], instance_params['MseLoss']\n",
    "    best_agent = PPO(**instance_params)                      # 通过 **kwargs 创建具有相同参数的新实例\n",
    "    best_agent.policy_old.load_state_dict(best_policy.state_dict())\n",
    "    env.close()\n",
    "    return best_agent, rewards, actor_losses, critic_losses\n",
    "    # print total training time\n",
    "    print(\"============================================================================================\")\n",
    "    end_time = datetime.now().replace(microsecond=0)\n",
    "    print(\"Total training time  : \", end_time - start_time)"
   ]
  },
  {
   "cell_type": "code",
   "execution_count": 51,
   "id": "35537da6-d37e-434b-829d-43609fa61973",
   "metadata": {},
   "outputs": [],
   "source": [
    "def test(env, best_agent, test_epochs):\n",
    "    print(\"开始测试！\")\n",
    "    rewards = []  # 记录所有回合的奖励\n",
    "    steps = []\n",
    "    for i_ep in range(test_epochs):\n",
    "        ep_reward = 0  # 记录一回合内的奖励\n",
    "        ep_step = 0\n",
    "        state = env.reset()[0]  # 重置环境，返回初始状态\n",
    "        for _ in range(best_agent.max_steps):\n",
    "            ep_step += 1\n",
    "            action = best_agent.act(state)  # 选择动作\n",
    "            next_state, reward, done, _, _ = env.step(action)  # 更新环境，返回transition\n",
    "            state = next_state  # 更新下一个状态\n",
    "            ep_reward += reward  # 累加奖励\n",
    "            if done:\n",
    "                break\n",
    "        steps.append(ep_step)\n",
    "        rewards.append(ep_reward)\n",
    "        print(f\"回合：{i_ep+1}/{test_epochs}，奖励：{ep_reward:.2f}\")\n",
    "    print(\"完成测试\")\n",
    "    env.close()\n",
    "    return {'rewards':rewards}"
   ]
  },
  {
   "cell_type": "code",
   "execution_count": 75,
   "id": "9fa4ee46-d7b2-455d-b248-51a1b403dbdd",
   "metadata": {},
   "outputs": [
    {
     "data": {
      "text/plain": [
       "True"
      ]
     },
     "execution_count": 75,
     "metadata": {},
     "output_type": "execute_result"
    }
   ],
   "source": [
    "type(agent).__name__ == 'PPO'"
   ]
  },
  {
   "cell_type": "code",
   "execution_count": 52,
   "id": "50852efd-078b-4af6-af9f-362872f17d16",
   "metadata": {},
   "outputs": [],
   "source": [
    "env = gym.make('CartPole-v1')\n",
    "a_size = env.action_space.n\n",
    "s_size = env.observation_space.shape[0]"
   ]
  },
  {
   "cell_type": "code",
   "execution_count": 57,
   "id": "03f90ed6-a23e-4975-98f7-21ec8e86e701",
   "metadata": {},
   "outputs": [],
   "source": [
    " # initialize a PPO agent\n",
    "epoch_rewards = []\n",
    "actor_losses = []\n",
    "critic_losses = []\n",
    "agent = PPO(s_size, a_size, lr_actor = 3e-3, lr_critic = 3e-4, gamma = 0.99, epochs = 600, max_steps = 500, update_times = 20,  update_steps = 2000, eps_clip = 0.2, has_continuous_action_space = False)"
   ]
  },
  {
   "cell_type": "code",
   "execution_count": 58,
   "id": "0f4366f1-49d2-4b8e-8ada-d9150d83dfa6",
   "metadata": {
    "scrolled": true
   },
   "outputs": [
    {
     "name": "stdout",
     "output_type": "stream",
     "text": [
      "Started training at (GMT) :  2023-11-28 17:03:23\n",
      "============================================================================================\n",
      "Episode : 10 \t\t Timestep : 157 \t\t Average Reward : 15.44\n",
      "==========================Best_agent has changed, the best reward is 15.44======================\n",
      "Episode : 20 \t\t Timestep : 338 \t\t Average Reward : 18.0\n",
      "==========================Best_agent has changed, the best reward is 18.0======================\n",
      "Episode : 30 \t\t Timestep : 559 \t\t Average Reward : 22.8\n",
      "==========================Best_agent has changed, the best reward is 22.8======================\n",
      "Episode : 40 \t\t Timestep : 722 \t\t Average Reward : 16.1\n",
      "Episode : 50 \t\t Timestep : 889 \t\t Average Reward : 17.0\n",
      "Episode : 60 \t\t Timestep : 1033 \t\t Average Reward : 13.4\n",
      "Episode : 70 \t\t Timestep : 1202 \t\t Average Reward : 17.8\n",
      "Episode : 80 \t\t Timestep : 1421 \t\t Average Reward : 21.2\n",
      "Episode : 90 \t\t Timestep : 1655 \t\t Average Reward : 24.0\n",
      "==========================Best_agent has changed, the best reward is 24.0======================\n",
      "Episode : 100 \t\t Timestep : 1836 \t\t Average Reward : 17.7\n",
      "Episode : 110 \t\t Timestep : 2045 \t\t Average Reward : 20.9\n",
      "Episode : 120 \t\t Timestep : 2288 \t\t Average Reward : 22.7\n",
      "Episode : 130 \t\t Timestep : 2567 \t\t Average Reward : 27.6\n",
      "==========================Best_agent has changed, the best reward is 27.6======================\n",
      "Episode : 140 \t\t Timestep : 2863 \t\t Average Reward : 29.6\n",
      "==========================Best_agent has changed, the best reward is 29.6======================\n",
      "Episode : 150 \t\t Timestep : 3124 \t\t Average Reward : 25.0\n",
      "Episode : 160 \t\t Timestep : 3325 \t\t Average Reward : 23.3\n",
      "Episode : 170 \t\t Timestep : 3581 \t\t Average Reward : 25.0\n",
      "Episode : 180 \t\t Timestep : 3777 \t\t Average Reward : 20.7\n",
      "Episode : 190 \t\t Timestep : 3987 \t\t Average Reward : 20.3\n",
      "Episode : 200 \t\t Timestep : 4332 \t\t Average Reward : 34.9\n",
      "==========================Best_agent has changed, the best reward is 34.9======================\n",
      "Episode : 210 \t\t Timestep : 4751 \t\t Average Reward : 41.4\n",
      "==========================Best_agent has changed, the best reward is 41.4======================\n",
      "Episode : 220 \t\t Timestep : 5131 \t\t Average Reward : 30.5\n",
      "Episode : 230 \t\t Timestep : 5378 \t\t Average Reward : 32.2\n",
      "Episode : 240 \t\t Timestep : 5754 \t\t Average Reward : 37.8\n",
      "Episode : 250 \t\t Timestep : 6068 \t\t Average Reward : 30.5\n",
      "Episode : 260 \t\t Timestep : 6779 \t\t Average Reward : 70.3\n",
      "==========================Best_agent has changed, the best reward is 70.3======================\n",
      "Episode : 270 \t\t Timestep : 7073 \t\t Average Reward : 27.0\n",
      "Episode : 280 \t\t Timestep : 7645 \t\t Average Reward : 54.5\n",
      "Episode : 290 \t\t Timestep : 8316 \t\t Average Reward : 71.6\n",
      "==========================Best_agent has changed, the best reward is 71.6======================\n",
      "Episode : 300 \t\t Timestep : 8944 \t\t Average Reward : 58.6\n",
      "Episode : 310 \t\t Timestep : 9731 \t\t Average Reward : 76.2\n",
      "==========================Best_agent has changed, the best reward is 76.2======================\n",
      "Episode : 320 \t\t Timestep : 10499 \t\t Average Reward : 82.6\n",
      "==========================Best_agent has changed, the best reward is 82.6======================\n",
      "Episode : 330 \t\t Timestep : 11907 \t\t Average Reward : 137.6\n",
      "==========================Best_agent has changed, the best reward is 137.6======================\n",
      "Episode : 340 \t\t Timestep : 13041 \t\t Average Reward : 102.4\n",
      "Episode : 350 \t\t Timestep : 14266 \t\t Average Reward : 137.7\n",
      "==========================Best_agent has changed, the best reward is 137.7======================\n",
      "Episode : 360 \t\t Timestep : 15830 \t\t Average Reward : 143.8\n",
      "==========================Best_agent has changed, the best reward is 143.8======================\n",
      "Episode : 370 \t\t Timestep : 17771 \t\t Average Reward : 189.2\n",
      "==========================Best_agent has changed, the best reward is 189.2======================\n",
      "Episode : 380 \t\t Timestep : 19946 \t\t Average Reward : 218.3\n",
      "==========================Best_agent has changed, the best reward is 218.3======================\n",
      "Episode : 390 \t\t Timestep : 22403 \t\t Average Reward : 239.5\n",
      "==========================Best_agent has changed, the best reward is 239.5======================\n",
      "Episode : 400 \t\t Timestep : 25312 \t\t Average Reward : 284.2\n",
      "==========================Best_agent has changed, the best reward is 284.2======================\n",
      "Episode : 410 \t\t Timestep : 28344 \t\t Average Reward : 304.6\n",
      "==========================Best_agent has changed, the best reward is 304.6======================\n",
      "Episode : 420 \t\t Timestep : 31964 \t\t Average Reward : 351.4\n",
      "==========================Best_agent has changed, the best reward is 351.4======================\n",
      "Episode : 430 \t\t Timestep : 35731 \t\t Average Reward : 372.9\n",
      "==========================Best_agent has changed, the best reward is 372.9======================\n",
      "Episode : 440 \t\t Timestep : 40070 \t\t Average Reward : 435.7\n",
      "==========================Best_agent has changed, the best reward is 435.7======================\n",
      "Episode : 450 \t\t Timestep : 43905 \t\t Average Reward : 378.1\n",
      "Episode : 460 \t\t Timestep : 48016 \t\t Average Reward : 411.1\n",
      "Episode : 470 \t\t Timestep : 52638 \t\t Average Reward : 462.2\n",
      "==========================Best_agent has changed, the best reward is 462.2======================\n",
      "Episode : 480 \t\t Timestep : 57528 \t\t Average Reward : 489.0\n",
      "==========================Best_agent has changed, the best reward is 489.0======================\n",
      "Episode : 490 \t\t Timestep : 62528 \t\t Average Reward : 500.0\n",
      "==========================Best_agent has changed, the best reward is 500.0======================\n",
      "Episode : 500 \t\t Timestep : 67528 \t\t Average Reward : 500.0\n",
      "==========================Best_agent has changed, the best reward is 500.0======================\n",
      "Episode : 510 \t\t Timestep : 72230 \t\t Average Reward : 470.2\n",
      "Episode : 520 \t\t Timestep : 77230 \t\t Average Reward : 500.0\n",
      "==========================Best_agent has changed, the best reward is 500.0======================\n",
      "Episode : 530 \t\t Timestep : 82101 \t\t Average Reward : 487.1\n",
      "Episode : 540 \t\t Timestep : 85506 \t\t Average Reward : 368.9\n",
      "Episode : 550 \t\t Timestep : 89460 \t\t Average Reward : 367.0\n",
      "Episode : 560 \t\t Timestep : 93929 \t\t Average Reward : 446.9\n",
      "Episode : 570 \t\t Timestep : 98807 \t\t Average Reward : 487.8\n",
      "Episode : 580 \t\t Timestep : 103489 \t\t Average Reward : 468.2\n",
      "Episode : 590 \t\t Timestep : 108489 \t\t Average Reward : 500.0\n",
      "==========================Best_agent has changed, the best reward is 500.0======================\n",
      "Episode : 600 \t\t Timestep : 113035 \t\t Average Reward : 454.6\n"
     ]
    }
   ],
   "source": [
    "best_agent = train(env, agent)"
   ]
  },
  {
   "cell_type": "code",
   "execution_count": 59,
   "id": "b9548835-dbb0-4cf8-b010-60bf813be50f",
   "metadata": {},
   "outputs": [
    {
     "data": {
      "image/png": "[encoded data removed]",
      "text/plain": [
       "<Figure size 640x480 with 1 Axes>"
      ]
     },
     "metadata": {},
     "output_type": "display_data"
    }
   ],
   "source": [
    "plot_scores(epoch_rewards)"
   ]
  },
  {
   "cell_type": "code",
   "execution_count": 60,
   "id": "43559d1e-9404-4183-8062-5e7eac30a339",
   "metadata": {},
   "outputs": [
    {
     "data": {
      "image/png": "[encoded data removed]",
      "text/plain": [
       "<Figure size 640x480 with 1 Axes>"
      ]
     },
     "metadata": {},
     "output_type": "display_data"
    }
   ],
   "source": [
    "plot_losses(actor_losses)"
   ]
  },
  {
   "cell_type": "code",
   "execution_count": 61,
   "id": "e91a8ba8-9c9e-4b99-bdb6-b5c53610b057",
   "metadata": {},
   "outputs": [
    {
     "data": {
      "image/png": "[encoded data removed]",
      "text/plain": [
       "<Figure size 640x480 with 1 Axes>"
      ]
     },
     "metadata": {},
     "output_type": "display_data"
    }
   ],
   "source": [
    "plot_losses(critic_losses)"
   ]
  },
  {
   "cell_type": "code",
   "execution_count": 62,
   "id": "fa60bfdd-c1f7-4e55-93e7-b094505f04f5",
   "metadata": {
    "scrolled": true
   },
   "outputs": [
    {
     "name": "stdout",
     "output_type": "stream",
     "text": [
      "开始测试！\n",
      "回合：1/20，奖励：500.00\n",
      "回合：2/20，奖励：500.00\n",
      "回合：3/20，奖励：500.00\n",
      "回合：4/20，奖励：500.00\n",
      "回合：5/20，奖励：162.00\n",
      "回合：6/20，奖励：500.00\n",
      "回合：7/20，奖励：500.00\n",
      "回合：8/20，奖励：443.00\n",
      "回合：9/20，奖励：500.00\n",
      "回合：10/20，奖励：500.00\n",
      "回合：11/20，奖励：500.00\n",
      "回合：12/20，奖励：500.00\n",
      "回合：13/20，奖励：500.00\n",
      "回合：14/20，奖励：500.00\n",
      "回合：15/20，奖励：500.00\n",
      "回合：16/20，奖励：302.00\n",
      "回合：17/20，奖励：500.00\n",
      "回合：18/20，奖励：500.00\n",
      "回合：19/20，奖励：500.00\n",
      "回合：20/20，奖励：500.00\n",
      "完成测试\n"
     ]
    },
    {
     "data": {
      "text/plain": [
       "{'rewards': [500.0,\n",
       "  500.0,\n",
       "  500.0,\n",
       "  500.0,\n",
       "  162.0,\n",
       "  500.0,\n",
       "  500.0,\n",
       "  443.0,\n",
       "  500.0,\n",
       "  500.0,\n",
       "  500.0,\n",
       "  500.0,\n",
       "  500.0,\n",
       "  500.0,\n",
       "  500.0,\n",
       "  302.0,\n",
       "  500.0,\n",
       "  500.0,\n",
       "  500.0,\n",
       "  500.0]}"
      ]
     },
     "execution_count": 62,
     "metadata": {},
     "output_type": "execute_result"
    }
   ],
   "source": [
    "test(env, best_agent, 20)"
   ]
  },
  {
   "cell_type": "code",
   "execution_count": 27,
   "id": "f52c00e4-b519-4b55-a6a4-4b25dd931efc",
   "metadata": {},
   "outputs": [],
   "source": [
    "def record_video(env, policy, out_directory, fps=30):\n",
    "    images = []\n",
    "    terminated = False\n",
    "    truncated = False\n",
    "    state = env.reset()\n",
    "    state = state[0]\n",
    "    img = env.render()\n",
    "    images.append(img)\n",
    "    while not terminated and not truncated:\n",
    "        action = policy.act(state)\n",
    "        state, reward, terminated, truncated, info = env.step(action)\n",
    "        img = env.render()\n",
    "        images.append(img)\n",
    "    imageio.mimsave(out_directory, [np.array(img) for i, img in enumerate(images)], fps=fps)"
   ]
  },
  {
   "cell_type": "code",
   "execution_count": 28,
   "id": "df230938-cd12-4aed-bb2c-5093bf84a174",
   "metadata": {},
   "outputs": [
    {
     "name": "stderr",
     "output_type": "stream",
     "text": [
      "IMAGEIO FFMPEG_WRITER WARNING: input image is not divisible by macro_block_size=16, resizing from (600, 400) to (608, 400) to ensure video compatibility with most codecs and players. To prevent resizing, make your input image divisible by the macro_block_size or set the macro_block_size to 1 (risking incompatibility).\n"
     ]
    }
   ],
   "source": [
    "vedio_env = gym.make(\"CartPole-v1\", render_mode=\"rgb_array\")\n",
    "video_path = './PPO_CartPole_v1_Replay.mp4'\n",
    "record_video(vedio_env, best_agent, video_path, 30)"
   ]
  },
  {
   "cell_type": "code",
   "execution_count": 71,
   "id": "ba0307a4-55c0-4564-8573-ad23fff86c5e",
   "metadata": {},
   "outputs": [],
   "source": [
    "policy_para = best_agent.policy_old.state_dict()\n",
    "torch.save(policy_para, './Game_models/PPO_CartPole-v1_500.pth')"
   ]
  },
  {
   "cell_type": "code",
   "execution_count": 2,
   "id": "80244a63-237f-46d8-be94-7971594b55e6",
   "metadata": {},
   "outputs": [
    {
     "data": {
      "text/plain": [
       "tensor([7.1447e+31, 2.2266e-15, 1.7753e+28, 4.4868e+21, 4.4650e+30, 1.7753e+28,\n",
       "        3.3645e-15, 7.3988e+31, 4.4849e+21, 2.7370e+20, 6.4640e-04, 1.8461e+20,\n",
       "        9.0941e-04, 2.6223e+20, 1.7465e+19, 1.8888e+31, 7.2347e+11, 2.7253e+20,\n",
       "        3.4550e-12, 1.4583e-19, 1.0899e+27, 6.8943e+34, 1.6212e-19, 3.0881e+29,\n",
       "        6.3828e+28, 1.4603e-19, 7.7179e+28, 1.6217e-19, 7.7180e+28, 7.9463e+08,\n",
       "        3.2604e-12, 1.1625e+33, 8.9605e-01, 1.1632e+33, 5.6003e-02, 7.0374e+22,\n",
       "        6.9983e+28, 1.6214e-19, 1.7179e+19, 7.3471e+28, 7.9471e+08, 5.0944e-14,\n",
       "        1.6109e-19, 1.8888e+31, 1.1727e-19, 7.2128e+22, 1.4755e+31, 2.7253e+20,\n",
       "        7.2126e+22, 4.7428e+30, 7.7781e+31, 2.6209e+20, 2.0530e-19, 1.4226e-13,\n",
       "        6.2608e+22, 4.7428e+30, 3.5833e-14, 7.7781e+31, 1.6907e-01, 1.7743e+28,\n",
       "        1.3458e-14, 8.1433e-33, 8.1371e-33])"
      ]
     },
     "execution_count": 2,
     "metadata": {},
     "output_type": "execute_result"
    }
   ],
   "source": [
    "import torch\n",
    "torch.FloatTensor(63)"
   ]
  },
  {
   "cell_type": "code",
   "execution_count": 4,
   "id": "a25f627f-1109-42c1-92d1-234d312d3e3e",
   "metadata": {},
   "outputs": [
    {
     "data": {
      "text/plain": [
       "tensor(63.)"
      ]
     },
     "execution_count": 4,
     "metadata": {},
     "output_type": "execute_result"
    }
   ],
   "source": [
    "torch.tensor(63).float()"
   ]
  },
  {
   "cell_type": "code",
   "execution_count": 7,
   "id": "63da65cc-380a-41ca-9226-1a97862dd024",
   "metadata": {},
   "outputs": [
    {
     "ename": "NameError",
     "evalue": "name 'float32' is not defined",
     "output_type": "error",
     "traceback": [
      "\u001b[1;31m---------------------------------------------------------------------------\u001b[0m",
      "\u001b[1;31mNameError\u001b[0m                                 Traceback (most recent call last)",
      "Cell \u001b[1;32mIn[7], line 1\u001b[0m\n\u001b[1;32m----> 1\u001b[0m torch\u001b[38;5;241m.\u001b[39mtensor(\u001b[38;5;241m63\u001b[39m, dtype\u001b[38;5;241m=\u001b[39m\u001b[43mfloat32\u001b[49m)\n",
      "\u001b[1;31mNameError\u001b[0m: name 'float32' is not defined"
     ]
    }
   ],
   "source": [
    "torch.tensor(63, dtype=float32)"
   ]
  },
  {
   "cell_type": "code",
   "execution_count": 18,
   "id": "056359c6-363d-40f6-8de9-91e1d003d3d3",
   "metadata": {},
   "outputs": [
    {
     "data": {
      "text/plain": [
       "tensor([])"
      ]
     },
     "execution_count": 18,
     "metadata": {},
     "output_type": "execute_result"
    }
   ],
   "source": [
    "a = []\n",
    "torch.tensor(a)"
   ]
  },
  {
   "cell_type": "code",
   "execution_count": 19,
   "id": "1c220fb0-f536-4332-b65e-1c5e23eb671d",
   "metadata": {},
   "outputs": [],
   "source": [
    "a.append(1)"
   ]
  },
  {
   "cell_type": "code",
   "execution_count": 20,
   "id": "b9ec3fc0-39dc-4750-b706-331a7c615457",
   "metadata": {},
   "outputs": [
    {
     "data": {
      "text/plain": [
       "list"
      ]
     },
     "execution_count": 20,
     "metadata": {},
     "output_type": "execute_result"
    }
   ],
   "source": [
    "type(a)"
   ]
  },
  {
   "cell_type": "code",
   "execution_count": 22,
   "id": "80159221-84e1-460e-8e70-400ecd8b20c8",
   "metadata": {},
   "outputs": [],
   "source": [
    "a = enumerate([1,2,3])"
   ]
  },
  {
   "cell_type": "code",
   "execution_count": 25,
   "id": "32a39067-18ec-4471-9410-f69bd066ede5",
   "metadata": {},
   "outputs": [
    {
     "name": "stdout",
     "output_type": "stream",
     "text": [
      "0 1\n",
      "1 2\n",
      "2 3\n"
     ]
    }
   ],
   "source": [
    "for i,j in a:\n",
    "    print(i ,j )"
   ]
  },
  {
   "cell_type": "code",
   "execution_count": null,
   "id": "901e441b-4bd0-469d-9e92-ff20a4978626",
   "metadata": {},
   "outputs": [],
   "source": []
  }
 ],
 "metadata": {
  "kernelspec": {
   "display_name": "Pytorch",
   "language": "python",
   "name": "pytorch"
  },
  "language_info": {
   "codemirror_mode": {
    "name": "ipython",
    "version": 3
   },
   "file_extension": ".py",
   "mimetype": "text/x-python",
   "name": "python",
   "nbconvert_exporter": "python",
   "pygments_lexer": "ipython3",
   "version": "3.11.4"
  }
 },
 "nbformat": 4,
 "nbformat_minor": 5
}
