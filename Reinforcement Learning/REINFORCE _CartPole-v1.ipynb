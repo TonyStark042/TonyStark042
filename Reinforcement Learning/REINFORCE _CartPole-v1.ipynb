{
 "cells": [
  {
   "cell_type": "markdown",
   "metadata": {},
   "source": [
    "# Reinforce (Monte Carlo Policy Gradient)"
   ]
  },
  {
   "cell_type": "markdown",
   "metadata": {},
   "source": [
    "策略梯度算法的损失函数如下：\n",
    "$$\n",
    "J_{\\theta}= \\Psi_{\\pi} \\nabla_\\theta \\log \\pi_\\theta\\left(a_t \\mid s_t\\right)\n",
    "$$\n",
    "\n",
    "我们需要拆开成两个部分$\\Psi_{\\pi}$和$\\nabla_\\theta \\log \\pi_\\theta\\left(a_t \\mid s_t\\right)$分开计算，首先看值函数部分$\\Psi_{\\pi}$，在REINFORCE算法中值函数是从当前时刻开始的衰减回报，如下：\n",
    "$$\n",
    "G \\leftarrow \\sum_{k=t+1}^{T} \\gamma^{k-1} r_{k}\n",
    "$$\n",
    "实际REINFORCE算法所实现的就是：不断提升那些回报为正的动作的概率，降低那些回报为负的动作的概率，使网络可以尽可能输出那些回报高的动作概率空间。"
   ]
  },
  {
   "cell_type": "markdown",
   "metadata": {},
   "source": [
    "动态规划技巧：\n",
    "\n",
    "我们可以倒过来看，在同一回合下，我们的终止时刻是$T$，那么对应的回报$G_T=\\gamma^{T-1}r_T$，而对应的$G_{T-1}=\\gamma^{T-2}r_{T-1}+\\gamma^{T-1}r_T$，在这里代码中我们使用了一个动态规划的技巧，如下：\n",
    "```python\n",
    "running_add = running_add * self.gamma + reward_pool[i] # running_add初始值为0\n",
    "```\n",
    "这个公式也是倒过来循环的，第一次的值等于：\n",
    "$$\n",
    "running\\_add = r_T\n",
    "$$\n",
    "第二次的值则等于：\n",
    "$$\n",
    "running\\_add = r_T*\\gamma+r_{T-1}\n",
    "$$\n",
    "第三次的值等于：\n",
    "$$\n",
    "running\\_add = (r_T*\\gamma+r_{T-1})*\\gamma+r_{T-2} = r_T*\\gamma^2+r_{T-1}*\\gamma+r_{T-2}\n",
    "$$"
   ]
  },
  {
   "cell_type": "markdown",
   "metadata": {},
   "source": [
    "### Importinggym and other important libraries"
   ]
  },
  {
   "cell_type": "code",
   "execution_count": 1,
   "metadata": {},
   "outputs": [],
   "source": [
    "import gymnasium as gym\n",
    "\n",
    "import torch\n",
    "import torch.nn as nn\n",
    "import torch.nn.functional as F\n",
    "import torch.optim as optim\n",
    "from torch.distributions import Categorical       # 离散概率分布 \n",
    "\n",
    "from collections import deque                     # 标准库中的一个类，它实现双端队列，允许从两端进行插入和删除操作，而不需要移动元素。\n",
    "import numpy as np\n",
    "\n",
    "import imageio                                  # imageio 是一个用于读写图像和视频的 Python 库\n",
    "\n",
    "import matplotlib.pyplot as plt\n",
    "import time"
   ]
  },
  {
   "cell_type": "markdown",
   "metadata": {},
   "source": [
    "###  Check if we have gpu"
   ]
  },
  {
   "cell_type": "code",
   "execution_count": 2,
   "metadata": {},
   "outputs": [
    {
     "name": "stdout",
     "output_type": "stream",
     "text": [
      "cuda:0\n"
     ]
    }
   ],
   "source": [
    "device = torch.device(\"cuda:0\" if torch.cuda.is_available() else \"cpu\")\n",
    "print(device)"
   ]
  },
  {
   "cell_type": "markdown",
   "metadata": {},
   "source": [
    "### Making env"
   ]
  },
  {
   "cell_type": "code",
   "execution_count": 3,
   "metadata": {},
   "outputs": [],
   "source": [
    "env_id = \"CartPole-v1\"    # flappy bird env id\n",
    "\n",
    "env = gym.make(env_id, render_mode='rgb_array')      # creating the env\n",
    "eval_env = gym.make(env_id, render_mode='rgb_array')     # creating the eval env\n",
    "env.reset(seed=42)\n",
    "eval_env.reset(seed=42)\n",
    "\n",
    "s_size = env.observation_space.shape[0]     # observation space\n",
    "a_size = env.action_space.n                 # action space"
   ]
  },
  {
   "cell_type": "code",
   "execution_count": 4,
   "metadata": {},
   "outputs": [
    {
     "data": {
      "text/plain": [
       "Box([-4.8000002e+00 -3.4028235e+38 -4.1887903e-01 -3.4028235e+38], [4.8000002e+00 3.4028235e+38 4.1887903e-01 3.4028235e+38], (4,), float32)"
      ]
     },
     "execution_count": 4,
     "metadata": {},
     "output_type": "execute_result"
    }
   ],
   "source": [
    "env.observation_space"
   ]
  },
  {
   "cell_type": "markdown",
   "metadata": {},
   "source": [
    "### Observation Space"
   ]
  },
  {
   "cell_type": "code",
   "execution_count": 5,
   "metadata": {},
   "outputs": [
    {
     "name": "stdout",
     "output_type": "stream",
     "text": [
      "_____OBSERVATION SPACE_____ \n",
      "\n",
      "Observation Space: Box([-4.8000002e+00 -3.4028235e+38 -4.1887903e-01 -3.4028235e+38], [4.8000002e+00 3.4028235e+38 4.1887903e-01 3.4028235e+38], (4,), float32)\n",
      "Sample Observation Space: [ 2.7967052e+00 -3.0792509e+38 -1.2728517e-01  1.4831803e+38]\n"
     ]
    }
   ],
   "source": [
    "print(\"_____OBSERVATION SPACE_____ \\n\")\n",
    "print(f\"Observation Space: {env.observation_space}\")                  # 12维的连续动作空间，没有上下界\n",
    "print(f\"Sample Observation Space: {env.observation_space.sample()}\")  # 随机抽几个样看一下"
   ]
  },
  {
   "cell_type": "markdown",
   "metadata": {},
   "source": [
    "####  Observation\n",
    "- Cart Position\n",
    "- Cart Velocity\n",
    "- Pole Angle\n",
    "- Pole Angular Velocity"
   ]
  },
  {
   "cell_type": "code",
   "execution_count": 6,
   "metadata": {},
   "outputs": [
    {
     "name": "stdout",
     "output_type": "stream",
     "text": [
      "_____ACTION SPACE_____ \n",
      "\n",
      "Action Space: Discrete(2)\n",
      "Sample Action Space: 1\n"
     ]
    }
   ],
   "source": [
    "print(\"_____ACTION SPACE_____ \\n\")\n",
    "print(f\"Action Space: {env.action_space}\")                  # 动作空间只有两个离散的动作\n",
    "print(f\"Sample Action Space: {env.action_space.sample()}\")"
   ]
  },
  {
   "cell_type": "markdown",
   "metadata": {},
   "source": [
    "#### The action space(2):\n",
    "- `1`: Left \n",
    "- `0`: Right"
   ]
  },
  {
   "cell_type": "markdown",
   "metadata": {},
   "source": [
    "### Reward Function:\n",
    "- `+1.0` - Every Second"
   ]
  },
  {
   "cell_type": "markdown",
   "metadata": {},
   "source": [
    "## Defining the Policy_Network"
   ]
  },
  {
   "cell_type": "code",
   "execution_count": 7,
   "metadata": {},
   "outputs": [],
   "source": [
    "class Policy(nn.Module):\n",
    "    def __init__(self, s_size, a_size, h_size):       \n",
    "        super(Policy, self).__init__()                # 使子类Policy继承神经网络父类的方法和属性\n",
    "        ## Creating Layers\n",
    "        # Hidden Layers\n",
    "        self.fc1 = nn.Linear(s_size, h_size)\n",
    "        self.fc2 = nn.Linear(h_size, h_size*2)\n",
    "        # Output Layer\n",
    "        self.fc3 = nn.Linear(h_size*2, a_size)\n",
    "\n",
    "    # Define the Forward Pass\n",
    "    def forward(self, x):\n",
    "        # apply relu activation function to the hidden layers\n",
    "        x = F.relu(self.fc1(x))                       # 负值直接为0，可以使稀疏后的模型能够更好地挖掘相关特征，加速学习\n",
    "        x = F.relu(self.fc2(x))\n",
    "        # output with softmax\n",
    "        x = F.softmax(self.fc3(x), dim = 1)                    # 归一化指数函数，多分类问题必用；  dim = 1表示在行维度上使用softmax   , dim=1\n",
    "        return x                                      # x[0] 就包含第一个样本在所有类别上的概率分布\n",
    "    \n",
    "    # Define the act i.e. given a state, take action\n",
    "    def act(self, state):\n",
    "        state = torch.from_numpy(state).float().unsqueeze(0).to(device)   #from_numpy   pytorch搭建的网络不接受一维张量输入,unsqueeze(0)增加一个维度;  因为Net想要的是一批数据，一批自然是两维，但如果只是一个的话就需要扩展维度。 \n",
    "        probs = self.forward(state).cpu()                                 # 模型的计算可能在 GPU 上进行，将结果移回到 CPU 上进行后续处理或者与其他 CPU 上的数据进行交互。\n",
    "        m = Categorical(probs)\n",
    "        action = m.sample()                                   # 从每个动作的概率抽取，返回一个值\n",
    "        return action.item(), m.log_prob(action)              # 将抽取的动作及其对数概率作为结果返回; action.item()从tensor转换为int标量值"
   ]
  },
  {
   "cell_type": "markdown",
   "metadata": {},
   "source": [
    "## Building the Reinforce Algorithm\n",
    "Building the Monte Carlo Policy Gradient (MCPG) or Reinforce Algorithm"
   ]
  },
  {
   "cell_type": "code",
   "execution_count": 8,
   "metadata": {},
   "outputs": [],
   "source": [
    "##########\n",
    "baseline = 0\n",
    "losses = []\n",
    "##########\n",
    "def reinforce(policy, optimizer, n_training_episodes, max_t, gamma, print_every):\n",
    "    # Help us to calculate the score during the training\n",
    "    scores_deque = deque(maxlen=100)                        # 创建长度为100的双端队列\n",
    "    scores = []\n",
    "\n",
    "    for i_episode in range(1, n_training_episodes+1):\n",
    "        saved_log_probs = []\n",
    "        rewards = []\n",
    "        state = env.reset()[0]\n",
    "        for t in range(max_t):\n",
    "            action, log_prob = policy.act(state)\n",
    "            saved_log_probs.append(log_prob)                       # 储存所有的对数概率   \n",
    "            state, reward, terminated, truncated, info = env.step(action)\n",
    "            rewards.append(reward)                                 # 把每步的reward都存起来了\n",
    "            if terminated:\n",
    "                rewards[-1] = -1.1\n",
    "                break \n",
    "        if t==max_t-1:\n",
    "            rewards = rewards*100000\n",
    "        scores_deque.append(sum(rewards))                          # 把这次的累计得分存储起来\n",
    "        scores.append(sum(rewards))                                \n",
    "\n",
    "        returns = deque(maxlen=max_t) \n",
    "        n_steps = len(rewards)                                    # 这个rewards的长度应该和max_t不一致，因为可能会terminated\n",
    "        for t in range(n_steps)[::-1]:\n",
    "             disc_return_t = (returns[0] if len(returns)>0 else 0)     # 要把初始Reward(t=maxt+1)设为0，这样的话Return(t=max)时才是正常的，只等于自己的reward，动态规划才能正常开始.\n",
    "             returns.appendleft( gamma*disc_return_t + rewards[t]   )  # 动态规划了，计算每个时刻t下的回报。 这里是从后往前算; 从前插入，先进的在后面;\n",
    "                                                                      ## 因为如果正着算的话很繁琐，r+y(rt+1)+...\n",
    "        \n",
    "        # standardizing returns to make traininig more stable         # 将回报标准化，这样就会有正有负，加快收敛。（问题是有时已经最好了，还会去削减一些动作。）\n",
    "        #eps = np.finfo(np.float32).eps.item()         # smallest representable float  获取 np.float32 类型的最小正浮点数\n",
    "        #returns = torch.tensor(returns)\n",
    "        #returns = (returns - returns.mean()) / (returns.std()+eps)    # added to std deviation to avoid numerical instabilities\n",
    "\n",
    "        policy_loss = []\n",
    "        for log_prob, disc_return in zip(saved_log_probs, returns):\n",
    "            policy_loss.append(-log_prob * (disc_return - baseline))               # REINFORCE的损失函数    # 原文是 -log_prob * disc_return，因为默认梯度下降为“-”，加上负号就是梯度上升。   当输出负的回报时，就会导致梯度还是往下走，导致出现该动作的可能降低。 \n",
    "                                                                     \n",
    "        \n",
    "        policy_loss = torch.cat(policy_loss).sum()                    # 求和，作为一个epoch的结果。\n",
    "\n",
    "        optimizer.zero_grad()\n",
    "        policy_loss.backward()\n",
    "        optimizer.step()\n",
    "        ########\n",
    "        losses.append(policy_loss.item())\n",
    "        ########\n",
    "        if i_episode % (print_every/100) == 0:       # 就是每10轮打印一次\n",
    "            print(f\"Episode: {i_episode}\\tAverage Score: {scores[-1]}\\tPolicy Loss: {policy_loss.item()}\")   # 打印第几轮训练，平均得分，以及损失\n",
    "        # print(f\"Episode: {i_episode}\\tScore: {scores_deque[-1]}\\tPolicy Loss: {policy_loss.item()}\")   # 打印第几轮训练，平均得分，以及损失\n",
    "        \n",
    "    return scores"
   ]
  },
  {
   "cell_type": "markdown",
   "metadata": {},
   "source": [
    "## Definig Hyperparameters"
   ]
  },
  {
   "cell_type": "code",
   "execution_count": 9,
   "metadata": {},
   "outputs": [
    {
     "ename": "SyntaxError",
     "evalue": "illegal target for annotation (2008173902.py, line 2)",
     "output_type": "error",
     "traceback": [
      "\u001b[1;36m  Cell \u001b[1;32mIn[9], line 2\u001b[1;36m\u001b[0m\n\u001b[1;33m    \"gamma\": .9,\u001b[0m\n\u001b[1;37m    ^\u001b[0m\n\u001b[1;31mSyntaxError\u001b[0m\u001b[1;31m:\u001b[0m illegal target for annotation\n"
     ]
    }
   ],
   "source": [
    "rewards[-1] = -1.5\n",
    "\"gamma\": .9,                     \n",
    "\"lr\": 3e-3,                       \n",
    "\n",
    "rewards[-1] = -1.5\n",
    "\"gamma\": .9,                     # 折扣因子0.99\n",
    "\"lr\": 1e-2,                       # 优化器的学习率"
   ]
  },
  {
   "cell_type": "code",
   "execution_count": 10,
   "metadata": {},
   "outputs": [],
   "source": [
    "losses = []\n",
    "CartPole_hyperparameters = {\n",
    "    \"h_size\": 16,\n",
    "    \"n_training_episodes\": 500,     # 训练轮\n",
    "    \"n_evaluation_episodes\": 10,      # 验证1000轮\n",
    "    \"max_t\": 300,                    # 每轮走1000步\n",
    "    \"gamma\": .9,                     # 折扣因子0.99\n",
    "    \"lr\": 6e-3,                       # 优化器的学习率\n",
    "    \"env_id\": env_id,\n",
    "    \"state_space\": s_size,\n",
    "    \"action_space\": a_size,\n",
    "}"
   ]
  },
  {
   "cell_type": "code",
   "execution_count": 11,
   "metadata": {},
   "outputs": [
    {
     "data": {
      "text/plain": [
       "Policy(\n",
       "  (fc1): Linear(in_features=4, out_features=16, bias=True)\n",
       "  (fc2): Linear(in_features=16, out_features=32, bias=True)\n",
       "  (fc3): Linear(in_features=32, out_features=2, bias=True)\n",
       ")"
      ]
     },
     "execution_count": 11,
     "metadata": {},
     "output_type": "execute_result"
    }
   ],
   "source": [
    "Policy(s_size, a_size, CartPole_hyperparameters['h_size'])"
   ]
  },
  {
   "cell_type": "markdown",
   "metadata": {},
   "source": [
    "## Training the Agent"
   ]
  },
  {
   "cell_type": "code",
   "execution_count": 12,
   "metadata": {},
   "outputs": [],
   "source": [
    "CartPole_policy = Policy(CartPole_hyperparameters[\"state_space\"], CartPole_hyperparameters[\"action_space\"], CartPole_hyperparameters[\"h_size\"]).to(device)\n",
    "CartPole_optimizer = optim.Adam(CartPole_policy.parameters(), lr=CartPole_hyperparameters[\"lr\"])    #  优化器"
   ]
  },
  {
   "cell_type": "code",
   "execution_count": 13,
   "metadata": {
    "scrolled": true
   },
   "outputs": [
    {
     "name": "stdout",
     "output_type": "stream",
     "text": [
      "Episode: 10\tAverage Score: 20.9\tPolicy Loss: 86.65543365478516\n",
      "Episode: 20\tAverage Score: 14.9\tPolicy Loss: 50.98039627075195\n",
      "Episode: 30\tAverage Score: 24.9\tPolicy Loss: 126.40762329101562\n",
      "Episode: 40\tAverage Score: 6.9\tPolicy Loss: 12.973165512084961\n",
      "Episode: 50\tAverage Score: 15.9\tPolicy Loss: 56.76408767700195\n",
      "Episode: 60\tAverage Score: 21.9\tPolicy Loss: 92.37242126464844\n",
      "Episode: 70\tAverage Score: 14.9\tPolicy Loss: 52.41143798828125\n",
      "Episode: 80\tAverage Score: 36.9\tPolicy Loss: 187.6076202392578\n",
      "Episode: 90\tAverage Score: 29.9\tPolicy Loss: 143.3388214111328\n",
      "Episode: 100\tAverage Score: 30.9\tPolicy Loss: 139.36534118652344\n",
      "Episode: 110\tAverage Score: 19.9\tPolicy Loss: 82.27539825439453\n",
      "Episode: 120\tAverage Score: 17.9\tPolicy Loss: 71.16641235351562\n",
      "Episode: 130\tAverage Score: 55.9\tPolicy Loss: 277.83612060546875\n",
      "Episode: 140\tAverage Score: 51.9\tPolicy Loss: 241.62503051757812\n",
      "Episode: 150\tAverage Score: 27.9\tPolicy Loss: 116.12922668457031\n",
      "Episode: 160\tAverage Score: 18.9\tPolicy Loss: 56.51630401611328\n",
      "Episode: 170\tAverage Score: 18.9\tPolicy Loss: 58.664459228515625\n",
      "Episode: 180\tAverage Score: 49.9\tPolicy Loss: 211.11402893066406\n",
      "Episode: 190\tAverage Score: 84.9\tPolicy Loss: 314.38262939453125\n",
      "Episode: 200\tAverage Score: 97.9\tPolicy Loss: 386.6934814453125\n",
      "Episode: 210\tAverage Score: 119.9\tPolicy Loss: 385.2709655761719\n",
      "Episode: 220\tAverage Score: 61.9\tPolicy Loss: 136.35279846191406\n",
      "Episode: 230\tAverage Score: 63.9\tPolicy Loss: 248.16587829589844\n",
      "Episode: 240\tAverage Score: 39.9\tPolicy Loss: 111.70120239257812\n",
      "Episode: 250\tAverage Score: 55.9\tPolicy Loss: 208.40084838867188\n",
      "Episode: 260\tAverage Score: 79.9\tPolicy Loss: 284.4018249511719\n",
      "Episode: 270\tAverage Score: 39.9\tPolicy Loss: 130.54847717285156\n",
      "Episode: 280\tAverage Score: 48.9\tPolicy Loss: 168.2659912109375\n",
      "Episode: 290\tAverage Score: 32.9\tPolicy Loss: 105.75000762939453\n",
      "Episode: 300\tAverage Score: 34.9\tPolicy Loss: 110.16341400146484\n",
      "Episode: 310\tAverage Score: 17.9\tPolicy Loss: 58.86680221557617\n",
      "Episode: 320\tAverage Score: 98.9\tPolicy Loss: 383.4408874511719\n",
      "Episode: 330\tAverage Score: 110.9\tPolicy Loss: 498.4017639160156\n",
      "Episode: 340\tAverage Score: 48.9\tPolicy Loss: 191.06402587890625\n",
      "Episode: 350\tAverage Score: 141.9\tPolicy Loss: 569.8473510742188\n",
      "Episode: 360\tAverage Score: 93.9\tPolicy Loss: 354.8249206542969\n",
      "Episode: 370\tAverage Score: 111.9\tPolicy Loss: 480.0382385253906\n",
      "Episode: 380\tAverage Score: 176.9\tPolicy Loss: 809.329833984375\n",
      "Episode: 390\tAverage Score: 35.9\tPolicy Loss: 135.62429809570312\n",
      "Episode: 400\tAverage Score: 124.9\tPolicy Loss: 446.8746032714844\n",
      "Episode: 410\tAverage Score: 95.9\tPolicy Loss: 321.08782958984375\n",
      "Episode: 420\tAverage Score: 36.9\tPolicy Loss: 111.433349609375\n",
      "Episode: 430\tAverage Score: 25.9\tPolicy Loss: 82.47930908203125\n",
      "Episode: 440\tAverage Score: 20.9\tPolicy Loss: 62.05681610107422\n",
      "Episode: 450\tAverage Score: 39.9\tPolicy Loss: 140.2808837890625\n",
      "Episode: 460\tAverage Score: 23.9\tPolicy Loss: 91.490478515625\n",
      "Episode: 470\tAverage Score: 119.9\tPolicy Loss: 292.2021179199219\n",
      "Episode: 480\tAverage Score: 235.9\tPolicy Loss: 869.199462890625\n",
      "Episode: 490\tAverage Score: 30000000.0\tPolicy Loss: 1051.0543212890625\n",
      "Episode: 500\tAverage Score: 243.9\tPolicy Loss: 791.6436767578125\n"
     ]
    }
   ],
   "source": [
    "scores = reinforce(\n",
    "    CartPole_policy,\n",
    "    CartPole_optimizer,\n",
    "    CartPole_hyperparameters[\"n_training_episodes\"],\n",
    "    CartPole_hyperparameters[\"max_t\"],\n",
    "    CartPole_hyperparameters[\"gamma\"],\n",
    "    1000)"
   ]
  },
  {
   "cell_type": "code",
   "execution_count": 15,
   "metadata": {},
   "outputs": [
    {
     "data": {
      "image/png": "[encoded data removed]",
      "text/plain": [
       "<Figure size 640x480 with 1 Axes>"
      ]
     },
     "metadata": {},
     "output_type": "display_data"
    }
   ],
   "source": [
    "# Plotting the policy loss with episodes\n",
    "plt.plot(range(1, CartPole_hyperparameters[\"n_training_episodes\"]+1), scores)\n",
    "plt.xlabel('Episodes')\n",
    "plt.ylabel('Rewards')\n",
    "plt.title('Rewards  vs. Episodes')\n",
    "plt.show()"
   ]
  },
  {
   "cell_type": "code",
   "execution_count": 16,
   "metadata": {},
   "outputs": [
    {
     "data": {
      "image/png": "[encoded data removed]",
      "text/plain": [
       "<Figure size 640x480 with 1 Axes>"
      ]
     },
     "metadata": {},
     "output_type": "display_data"
    }
   ],
   "source": [
    "# Plotting the policy loss with episodes\n",
    "plt.plot(range(1, CartPole_hyperparameters[\"n_training_episodes\"]+1), losses)\n",
    "plt.xlabel('Episodes')\n",
    "plt.ylabel('Losses')\n",
    "plt.title('Losses  vs. Episodes')\n",
    "plt.show()"
   ]
  },
  {
   "cell_type": "markdown",
   "metadata": {},
   "source": [
    "## Define Evaluation Agent"
   ]
  },
  {
   "cell_type": "code",
   "execution_count": 17,
   "metadata": {},
   "outputs": [],
   "source": [
    "def evaluate_agent(env, max_steps, n_eval_episodes, policy):\n",
    "  \"\"\"\n",
    "  Evaluate the agent for ``n_eval_episodes`` episodes and returns average reward and std of reward.\n",
    "  :param env: The evaluation environment\n",
    "  :param n_eval_episodes: Number of episode to evaluate the agent\n",
    "  :param policy: The Reinforce agent\n",
    "  \"\"\"\n",
    "  episode_rewards = []\n",
    "  for episode in range(n_eval_episodes):\n",
    "    state = env.reset(seed=42)\n",
    "    state = state[0]\n",
    "    step = 0\n",
    "    # terminated = False\n",
    "    # truncated = False\n",
    "    total_rewards_ep = 0\n",
    "\n",
    "    for step in range(max_steps):\n",
    "      action, _ = policy.act(state)\n",
    "      new_state, reward, terminated, truncated, info = env.step(action)\n",
    "      total_rewards_ep += reward\n",
    "\n",
    "      if terminated or truncated:\n",
    "        break\n",
    "      state = new_state\n",
    "    episode_rewards.append(total_rewards_ep)\n",
    "  mean_reward = np.mean(episode_rewards)\n",
    "  std_reward = np.std(episode_rewards)\n",
    "\n",
    "  return mean_reward, std_reward"
   ]
  },
  {
   "cell_type": "markdown",
   "metadata": {},
   "source": [
    "#### Evaluate our Agent"
   ]
  },
  {
   "cell_type": "code",
   "execution_count": 20,
   "metadata": {},
   "outputs": [
    {
     "data": {
      "text/plain": [
       "(213.9, 13.670771741200275)"
      ]
     },
     "execution_count": 20,
     "metadata": {},
     "output_type": "execute_result"
    }
   ],
   "source": [
    "evaluate_agent(eval_env,\n",
    "               CartPole_hyperparameters[\"max_t\"],\n",
    "               CartPole_hyperparameters[\"n_evaluation_episodes\"],\n",
    "               CartPole_policy)"
   ]
  },
  {
   "cell_type": "markdown",
   "metadata": {},
   "source": [
    "### Recording Video"
   ]
  },
  {
   "cell_type": "code",
   "execution_count": 162,
   "metadata": {},
   "outputs": [],
   "source": [
    "def record_video(env, policy, out_directory, fps=30):\n",
    "  images = []\n",
    "  terminated = False\n",
    "  truncated = False\n",
    "  state = env.reset(seed=42)\n",
    "  state = state[0]\n",
    "  img = env.render()\n",
    "  images.append(img)\n",
    "  while not terminated or truncated:\n",
    "    action, _ = policy.act(state)\n",
    "    state, reward, terminated, truncated, info = env.step(action)\n",
    "    img = env.render()\n",
    "    images.append(img)\n",
    "  imageio.mimsave(out_directory, [np.array(img) for i, img in enumerate(images)], fps=fps)"
   ]
  },
  {
   "cell_type": "code",
   "execution_count": 163,
   "metadata": {},
   "outputs": [
    {
     "name": "stderr",
     "output_type": "stream",
     "text": [
      "IMAGEIO FFMPEG_WRITER WARNING: input image is not divisible by macro_block_size=16, resizing from (600, 400) to (608, 400) to ensure video compatibility with most codecs and players. To prevent resizing, make your input image divisible by the macro_block_size or set the macro_block_size to 1 (risking incompatibility).\n"
     ]
    }
   ],
   "source": [
    "video_path = './replay.mp4'\n",
    "record_video(eval_env, CartPole_policy, video_path, 30)"
   ]
  },
  {
   "cell_type": "code",
   "execution_count": 301,
   "metadata": {},
   "outputs": [
    {
     "data": {
      "text/plain": [
       "<module 'flappy_bird_gymnasium' from 'C:\\\\Users\\\\lenovo\\\\AppData\\\\Local\\\\Programs\\\\Python\\\\Python311\\\\Lib\\\\site-packages\\\\flappy_bird_gymnasium\\\\__init__.py'>"
      ]
     },
     "execution_count": 301,
     "metadata": {},
     "output_type": "execute_result"
    }
   ],
   "source": [
    "flappy_bird_gymnasium"
   ]
  },
  {
   "cell_type": "code",
   "execution_count": 302,
   "metadata": {},
   "outputs": [
    {
     "data": {
      "text/plain": [
       "(array([ 0.83333333,  0.31445312,  0.50976562,  1.        ,  0.        ,\n",
       "         1.        ,  1.        ,  0.        ,  1.        , -0.15820312,\n",
       "         0.1       ,  0.16666667]),\n",
       " 0.1,\n",
       " False,\n",
       " False,\n",
       " {'score': 0})"
      ]
     },
     "execution_count": 302,
     "metadata": {},
     "output_type": "execute_result"
    }
   ],
   "source": [
    "env.step(1)"
   ]
  },
  {
   "cell_type": "code",
   "execution_count": 303,
   "metadata": {},
   "outputs": [
    {
     "data": {
      "text/plain": [
       "tensor(nan)"
      ]
     },
     "execution_count": 303,
     "metadata": {},
     "output_type": "execute_result"
    }
   ],
   "source": [
    "# standardizing returns to make traininig more stable         # 将回报标准化 ??\n",
    "eps = np.finfo(np.float32).eps.item()         # smallest representable float  获取 np.float32 类型的最小正浮点数\n",
    "returns = torch.tensor(100).float()\n",
    "(returns.std()+eps)    "
   ]
  }
 ],
 "metadata": {
  "kernelspec": {
   "display_name": "Python 3 (ipykernel)",
   "language": "python",
   "name": "python3"
  },
  "language_info": {
   "codemirror_mode": {
    "name": "ipython",
    "version": 3
   },
   "file_extension": ".py",
   "mimetype": "text/x-python",
   "name": "python",
   "nbconvert_exporter": "python",
   "pygments_lexer": "ipython3",
   "version": "3.11.4"
  }
 },
 "nbformat": 4,
 "nbformat_minor": 4
}
